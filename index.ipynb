{
  "cells": [
    {
      "cell_type": "raw",
      "metadata": {},
      "source": [
        "---\n",
        "title: \"Max Lindmark\"\n",
        "subtitle: \"Postdoc at the Institute of Marine Research | SLU\"\n",
        "image: avatar.jpg\n",
        "about:\n",
        "  template: jolla\n",
        "comments: false\n",
        "---"
      ],
      "id": "fa86924c"
    },
    {
      "cell_type": "markdown",
      "metadata": {},
      "source": [
        "```\n",
        "\n",
        "\n",
        "::: {.g-col-8}\n",
        "\n",
        "I'm a quantitative marine ecologist try to understand how individual organisms, populations and communities respond to climate change. Specifically, I explore growth rates, body size and the spatiotemporal distribution of species change over time in relation to climate and ecological processes.\n",
        "\n",
        "Feel free to [contact](contact) me if you want to get in touch or collaborate!\n",
        "\n",
        ":::"
      ],
      "id": "75c532c3"
    }
  ],
  "metadata": {
    "kernelspec": {
      "display_name": "Python 3",
      "language": "python",
      "name": "python3"
    }
  },
  "nbformat": 4,
  "nbformat_minor": 5
}